{
  "cells": [
    {
      "cell_type": "markdown",
      "metadata": {
        "id": "view-in-github",
        "colab_type": "text"
      },
      "source": [
        "<a href=\"https://colab.research.google.com/github/JackismyShephard/ultimate-rvc/blob/main/notebooks/ultimate_rvc_colab.ipynb\" target=\"_parent\"><img src=\"https://colab.research.google.com/assets/colab-badge.svg\" alt=\"Open In Colab\"/></a>"
      ]
    },
    {
      "cell_type": "markdown",
      "metadata": {
        "id": "kmyCzJVyCymN"
      },
      "source": [
        "#   <h1 align=\"center\"><b> Colab for [Ultimate RVC](https://github.com/JackismyShephard/ultimate-rvc) </b></h1>\n",
        "<div align=\"center\">\n",
        "\n",
        "This Colab notebook will **help** you if you don’t have a GPU or if your PC isn’t very powerful.\n",
        "\n",
        "Simply click `Runtime` in the top navigation bar and `Run all`. Wait for the output of the final cell to show the public gradio url and click on it.\n",
        "\n",
        "\n",
        "---\n",
        "\n",
        "\n",
        "\n",
        "**NOTE:** If Ultimate RVC is running too slowly with the default sharing method (gradio), consider instead selecting \"ngrok\" as sharing method.\n",
        "This method requires supplying an access token, which you can find on [ngrok](https://ngrok.com/) after creating a personal account.\n",
        "The ngrok link output in the final cell will lead you to a new site which will redirect you to Ultimate RVC."
      ]
    },
    {
      "cell_type": "code",
      "execution_count": null,
      "metadata": {
        "cellView": "form",
        "id": "OYK3z4TSqxF6"
      },
      "outputs": [],
      "source": [
        "# @title 0: Initialize notebook\n",
        "%pip install ipython-autotime pyngrok\n",
        "%load_ext autotime\n",
        "\n",
        "import codecs\n",
        "import os\n",
        "import time\n",
        "import urllib.request\n",
        "from pathlib import Path\n",
        "\n",
        "import ipywidgets as widgets\n",
        "from IPython.display import clear_output, display\n",
        "from pyngrok import ngrok\n",
        "\n",
        "clear_output()"
      ]
    },
    {
      "cell_type": "code",
      "execution_count": null,
      "metadata": {
        "cellView": "form",
        "id": "aaokDv1VzpAX"
      },
      "outputs": [],
      "source": [
        "# @title 1: Clone repository\n",
        "cloneing = codecs.decode(\n",
        "    \"uggcf://tvguho.pbz/WnpxvfzlFurcuneq/hygvzngr-eip.tvg\",\n",
        "    \"rot_13\",\n",
        ")\n",
        "\n",
        "!git clone $cloneing HRVC\n",
        "%cd /content/HRVC\n",
        "clear_output()"
      ]
    },
    {
      "cell_type": "code",
      "execution_count": null,
      "metadata": {
        "cellView": "form",
        "id": "lVGNygIa0F_1"
      },
      "outputs": [],
      "source": [
        "\n",
        "# @title 2: Install dependencies\n",
        "\n",
        "\n",
        "inits = codecs.decode(\"./fep/hygvzngr_eip/pber/znva.cl\", \"rot_13\")\n",
        "prerelease = \"--prerelease if-necessary-or-explicit\"\n",
        "build_uv  = \"UV_CONSTRAINT= UV_BUILD_CONSTRAINT= UV_PRERELEASE=if-necessary-or-explicit\"\n",
        "\n",
        "print(\"Installing dependencies...\")\n",
        "\n",
        "!pip install uv==0.6.3 > /dev/null 2>&1\n",
        "\n",
        "# Set environment variable\n",
        "os.environ[\"URVC_CONSOLE_LOG_LEVEL\"] = \"WARNING\"\n",
        "\n",
        "# Run the script and add dependencies using uv\n",
        "!uv run -q $build_uv $inits\n",
        "!uv add $build_uv matplotlib-inline==0.1.7\n",
        "\n",
        "# Clear the output\n",
        "clear_output()"
      ]
    },
    {
      "cell_type": "code",
      "execution_count": null,
      "metadata": {
        "cellView": "form",
        "id": "lVGNygIa0F_2"
      },
      "outputs": [],
      "source": [
        "# @title 3: Run Ultimate RVC\n",
        "# @markdown  #### Choose a sharing method:\n",
        "\n",
        "method = \"gradio\"  # @param [\"gradio\",  \"ngrok\", \"cloudflared\",\"localtunnel\"]\n",
        "ngrok_token = \"If you selected the 'ngrok' method, obtain your auth token here: https://dashboard.ngrok.com/get-started/your-authtoken\"  # @param {type:\"string\"}\n",
        "runpice = codecs.decode(\"./fep/hygvzngr_eip/jro/znva.cl\", \"rot_13\")\n",
        "\n",
        "if method == \"gradio\":\n",
        "    !uv run $prerelease $runpice --share\n",
        "elif method == \"ngrok\":\n",
        "    try:\n",
        "        ngrok.set_auth_token(ngrok_token)\n",
        "        ngrok.kill()\n",
        "        tunnel = ngrok.connect(6969)\n",
        "        print(f\"Ngrok URL: {tunnel.public_url}\")\n",
        "        !uv run $prerelease $runpice --listen-port 6969\n",
        "    except Exception as e:\n",
        "        print(f\"Error starting ngrok: {e}\")\n",
        "elif method == \"cloudflared\":\n",
        "    !curl -LO https://github.com/cloudflare/cloudflared/releases/latest/download/cloudflared-linux-amd64.deb\n",
        "    !dpkg -i cloudflared-linux-amd64.deb\n",
        "    clear_output()\n",
        "    !rm -rf nohup.out\n",
        "    !nohup cloudflared tunnel --url localhost:6969 &\n",
        "    clear_output()\n",
        "    time.sleep(10)\n",
        "    cloudflare_url = !grep -oE \"https://[a-zA-Z0-9.-]+\\.trycloudflare\\.com\" nohup.out\n",
        "    print(f\"URVC Public URL: {cloudflare_url}\")\n",
        "    !uv run $prerelease $runpice --listen-port 6969\n",
        "elif method == \"localtunnel\":\n",
        "    !npm install -g localtunnel &>/dev/null\n",
        "    Path(\"url.txt\").open(\"w\", encoding=\"utf-8\").close()\n",
        "    !lt --port 6969 >> url.txt 2>&1 &\n",
        "    time.sleep(2)\n",
        "    endpoint_ip = urllib.request.urlopen(\"https://ipv4.icanhazip.com\").read().decode(\"utf8\").strip(\"\\n\")\n",
        "    tunnel_url = (\n",
        "        Path(\"url.txt\")\n",
        "        .read_text(encoding=\"utf-8\")\n",
        "        .replace(\"your url is: \", \"\")\n",
        "    )\n",
        "    print(f\"Share Link: {tunnel_url}\")\n",
        "    password_endpoint_widget = widgets.Text(\n",
        "        value=endpoint_ip,\n",
        "        description=\"Password IP:\",\n",
        "        disabled=True,\n",
        "    )\n",
        "    display(password_endpoint_widget)\n",
        "    !uv run $prerelease $runpice --listen-port 6969"
      ]
    },
    {
      "cell_type": "markdown",
      "source": [
        "# <h1 align=\"center\"><b> Extra </b></h1>\n",
        "<div align=\"center\">\n",
        "\n",
        "\n",
        "made by [NeoDev](https://github.com/TheNeodev)"
      ],
      "metadata": {
        "id": "K-7cBZZxrx_0"
      }
    },
    {
      "cell_type": "code",
      "source": [
        "# @title Mount Drive\n",
        "# @markdown Mount the files from Google Drive to the Colab.\n",
        "from google.colab import drive\n",
        "\n",
        "drive.mount(\"/content/drive\")"
      ],
      "metadata": {
        "cellView": "form",
        "id": "mrX2LYw4r6J9"
      },
      "execution_count": null,
      "outputs": []
    },
    {
      "cell_type": "code",
      "source": [
        "#@title upload model to huggingface\n",
        "#@markdown get your token on https://huggingface.co/settings/tokens\n",
        "import huggingface_hub\n",
        "import os\n",
        "import tempfile\n",
        "import zipfile\n",
        "\n",
        "def upload_model(repo, pth, index, token, names_models):\n",
        "    \"\"\"\n",
        "    Upload a model to the Hugging Face Hub by zipping the .pth and .index files and uploading the zip file along with a README.md.\n",
        "\n",
        "    Args:\n",
        "        repo: str, the name of the repository in the format \"username/repo_name\"\n",
        "        pth: str, path to the model file (.pth)\n",
        "        index: str, path to the index file (.index)\n",
        "        token: str, the API token\n",
        "\n",
        "    Returns:\n",
        "        str, message indicating the success of the operation\n",
        "    \"\"\"\n",
        "    # Validate input files\n",
        "    if not os.path.isfile(pth):\n",
        "        raise FileNotFoundError(f\"Model file not found: {pth}\")\n",
        "    if not os.path.isfile(index):\n",
        "        raise FileNotFoundError(f\"Index file not found: {index}\")\n",
        "\n",
        "    # Extract model name from repo and define zip file name\n",
        "    model_name = repo.split('/')[-1]\n",
        "    zip_name = f\"{model_name}.zip\"\n",
        "\n",
        "    # Initialize Hugging Face API and create repo if it doesn't exist\n",
        "    api = huggingface_hub.HfApi()\n",
        "    api.create_repo(token=token, repo_id=repo, exist_ok=True)\n",
        "\n",
        "    # Create a temporary directory and zip the files\n",
        "    with tempfile.TemporaryDirectory() as temp_dir:\n",
        "        zip_path = os.path.join(temp_dir, f\"{names_models}.zip\")\n",
        "        with zipfile.ZipFile(zip_path, 'w') as zipf:\n",
        "            # Add files to zip with their original names\n",
        "            zipf.write(pth, arcname=os.path.basename(pth))\n",
        "            zipf.write(index, arcname=os.path.basename(index))\n",
        "        # Upload the zip file\n",
        "        api.upload_file(\n",
        "            token=token,\n",
        "            path_or_fileobj=zip_path,\n",
        "            path_in_repo=zip_name,\n",
        "            repo_id=repo\n",
        "        )\n",
        "        print(f\"Uploaded {zip_name}\")\n",
        "\n",
        "    # Define README content\n",
        "    readme = f\"\"\"\n",
        "# {model_name}\n",
        "This is a model uploaded by [Ultimate RVC](https://github.com/JackismyShephard/ultimate-rvc), using [NeoDev](https://github.com/TheNeodev)'s script.\n",
        "\"\"\"\n",
        "    # Create and upload README\n",
        "    with tempfile.NamedTemporaryFile(mode=\"w\", delete=False) as tmpfile:\n",
        "        tmpfile.write(readme)\n",
        "        tmpfile_path = tmpfile.name\n",
        "    api.upload_file(\n",
        "        token=token,\n",
        "        path_or_fileobj=tmpfile_path,\n",
        "        path_in_repo=\"README.md\",\n",
        "        repo_id=repo\n",
        "    )\n",
        "    os.remove(tmpfile_path)\n",
        "    print(\"Uploaded README.md\")\n",
        "\n",
        "    return \"Model uploaded successfully\"\n",
        "\n",
        "# Example usage\n",
        "repo = \"user/names\" #@param {type:\"string\"}\n",
        "names_models = \"my_model\" #@param {type:\"string\"}\n",
        "\n",
        "pth = \"your model pth path\" #@param {type:\"string\"}\n",
        "index = \"your model index\" #@param {type:\"string\"}\n",
        "token = \"your token here\" #@param {type:\"string\"}\n",
        "upload_model(repo, pth, index, token, names_models)"
      ],
      "metadata": {
        "cellView": "form",
        "id": "Ggpbv2Hmr_Z6"
      },
      "execution_count": null,
      "outputs": []
    }
  ],
  "metadata": {
    "accelerator": "GPU",
    "colab": {
      "gpuType": "T4",
      "provenance": [],
      "include_colab_link": true
    },
    "kernelspec": {
      "display_name": "Python 3",
      "name": "python3"
    },
    "language_info": {
      "name": "python"
    }
  },
  "nbformat": 4,
  "nbformat_minor": 0
}
